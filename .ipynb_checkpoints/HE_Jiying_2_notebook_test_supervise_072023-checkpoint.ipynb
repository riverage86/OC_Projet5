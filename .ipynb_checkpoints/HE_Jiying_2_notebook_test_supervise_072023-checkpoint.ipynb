{
 "cells": [
  {
   "cell_type": "code",
   "execution_count": 1,
   "id": "1b335f36",
   "metadata": {},
   "outputs": [],
   "source": [
    "import pandas as pd\n",
    "import numpy as np\n",
    "import warnings \n",
    "import nltk\n",
    "import re\n",
    "import matplotlib.pyplot as plt\n",
    "from sklearn.model_selection import train_test_split\n",
    "from sklearn.metrics import accuracy_score, precision_score, recall_score, f1_score, hamming_loss\n",
    "from sklearn.metrics import jaccard_score \n",
    "from sklearn.metrics import multilabel_confusion_matrix, ConfusionMatrixDisplay\n",
    "from sklearn.feature_extraction.text import CountVectorizer, TfidfVectorizer\n",
    "from sklearn.multiclass import OneVsRestClassifier\n",
    "from sklearn.linear_model import LogisticRegression, SGDClassifier\n",
    "from sklearn.preprocessing import MultiLabelBinarizer\n",
    "from sklearn.feature_extraction.text import TfidfVectorizer\n",
    "from gensim.models import Word2Vec\n",
    "from transformers import BertTokenizer, TFBertModel\n",
    "import tensorflow_hub as hub\n",
    "from sklearn.svm import LinearSVC\n",
    "import datetime, time"
   ]
  },
  {
   "cell_type": "code",
   "execution_count": 2,
   "id": "dc520908",
   "metadata": {},
   "outputs": [
    {
     "name": "stdout",
     "output_type": "stream",
     "text": [
      "C:\\Users\\utilisateur\\anaconda3\\python.exe\n"
     ]
    }
   ],
   "source": [
    "import sys\n",
    "print(sys.executable)"
   ]
  },
  {
   "cell_type": "code",
   "execution_count": 3,
   "id": "6e5e43fb",
   "metadata": {},
   "outputs": [],
   "source": [
    "def plot_confusion_matrix(y_test, y_pred, label_list):\n",
    "    nb_label = len(label_list)\n",
    "    fig, axs = plt.subplots(1, nb_label, figsize=(nb_label * 5, 5))\n",
    "    for i in range(nb_label):\n",
    "        cm = multilabel_confusion_matrix(y_test, y_pred)[i]\n",
    "        display_labels = [\"others\", label_list[i]]\n",
    "        disp = ConfusionMatrixDisplay(confusion_matrix=cm, display_labels=display_labels)\n",
    "        disp.plot(ax=axs[i], colorbar=False)\n",
    "    plt.show()"
   ]
  },
  {
   "cell_type": "code",
   "execution_count": 4,
   "id": "93062dc9",
   "metadata": {},
   "outputs": [],
   "source": [
    "def classification_perm(y_test_bin, y_pred_bin) : \n",
    "    # Calculer le score Jaccard pour mesurer la similarité entre deux ensembles\n",
    "    jaccard = jaccard_score(y_test_bin, y_pred_bin, average='micro')\n",
    "    # Calculer l'exactitude des prédictions\n",
    "    accuracy = accuracy_score(y_test_bin, y_pred_bin)\n",
    "    # Calculer la précision macro-moyenne\n",
    "    precision = precision_score(y_test_bin, y_pred_bin, average='micro')\n",
    "    # Calculer le rappel micro-moyen\n",
    "    recall = recall_score(y_test_bin, y_pred_bin, average='micro')\n",
    "    # Calculer le score F1 macro-moyen\n",
    "    f1 = f1_score(y_test_bin, y_pred_bin, average='micro')\n",
    "    resultat = [jaccard, accuracy, precision,recall, f1]\n",
    "    return resultat "
   ]
  },
  {
   "cell_type": "code",
   "execution_count": 5,
   "id": "42f54956",
   "metadata": {},
   "outputs": [],
   "source": [
    "warnings.filterwarnings('ignore')"
   ]
  },
  {
   "cell_type": "code",
   "execution_count": 6,
   "id": "153edc9f",
   "metadata": {},
   "outputs": [],
   "source": [
    "# Charger les données\n",
    "data =  pd.read_csv('data_processed.csv',  engine = 'python',  on_bad_lines = 'skip')"
   ]
  },
  {
   "cell_type": "code",
   "execution_count": 7,
   "id": "03c02ed9",
   "metadata": {},
   "outputs": [
    {
     "data": {
      "text/plain": [
       "Index(['Id', 'Title', 'Title_tokens', 'Body', 'Body_tokens', 'Tags',\n",
       "       'Tag_token', 'Score', 'AnswerCount'],\n",
       "      dtype='object')"
      ]
     },
     "execution_count": 7,
     "metadata": {},
     "output_type": "execute_result"
    }
   ],
   "source": [
    "data.columns"
   ]
  },
  {
   "cell_type": "code",
   "execution_count": 8,
   "id": "3076eb79",
   "metadata": {},
   "outputs": [],
   "source": [
    "X = data[['Title_tokens', 'Body_tokens','Score', 'AnswerCount']].copy()\n",
    "y = data[['Tag_token']].copy()\n",
    "\n",
    "# re tokenisations des variables tockens suite à la lecture csv qui lit champe en string,  mise à jour aussi dans dataframe data. \n",
    "X['Title_tokens'] = X['Title_tokens'].apply(lambda x: re.sub('[^a-zA-Z_]', ' ', str(x)))\n",
    "X['Title_tokens'] = X['Title_tokens'].apply(nltk.word_tokenize)\n",
    "X['Body_tokens'] = X['Body_tokens'].apply(lambda x: re.sub('[^a-zA-Z_]', ' ', str(x)))\n",
    "X['Body_tokens'] = X['Body_tokens'].apply(nltk.word_tokenize)\n",
    "y['Tag_token'] = y['Tag_token'].apply(lambda x: re.sub('[^a-zA-Z_]', ' ', str(x)))\n",
    "y['Tag_token'] = y['Tag_token'].apply(nltk.word_tokenize)\n",
    "\n",
    "# Split the Title_tokens into train and test sets\n",
    "X_train, X_test, y_train, y_test = train_test_split(data['Title_tokens']+data['Body_tokens'], data['Tag_token'], test_size=0.2, random_state=42)\n",
    "\n",
    "#X_train_title = X_train['Title_tokens']\n",
    "#X_test_title = X_test['Title_tokens']\n",
    "#X_train_body = X_train['Body_tokens']\n",
    "#X_test_body = X_test['Body_tokens']"
   ]
  },
  {
   "cell_type": "code",
   "execution_count": 9,
   "id": "2717d638",
   "metadata": {
    "scrolled": true
   },
   "outputs": [
    {
     "data": {
      "text/plain": [
       "39087    ['stored', 'procedure']['function', 'calling',...\n",
       "30893    ['run', 'fly', 'tomcat', 'netbeans']['maven', ...\n",
       "45278    ['show', 'gray', 'color', 'view', 'io', 'navig...\n",
       "16398    ['form', 'authentication', 'ticket', 'decrypti...\n",
       "13653    ['validation', 'yii']['validation', 'yii', 'ad...\n",
       "dtype: object"
      ]
     },
     "execution_count": 9,
     "metadata": {},
     "output_type": "execute_result"
    }
   ],
   "source": [
    "X_train.head()"
   ]
  },
  {
   "cell_type": "code",
   "execution_count": 10,
   "id": "e674b01f",
   "metadata": {},
   "outputs": [
    {
     "data": {
      "text/plain": [
       "39087    ['sql', 'sql-server', 'vb.net', 'stored-proced...\n",
       "30893    ['java', 'eclipse', 'maven', 'tomcat', 'netbea...\n",
       "45278    ['objective-c', 'ipad', 'ios7', 'uisplitviewco...\n",
       "16398    ['c#', '.net', 'php', 'authentication', 'encry...\n",
       "13653    ['php', 'forms', 'validation', 'yii2', 'yii2-a...\n",
       "Name: Tag_token, dtype: object"
      ]
     },
     "execution_count": 10,
     "metadata": {},
     "output_type": "execute_result"
    }
   ],
   "source": [
    "y_train.head()"
   ]
  },
  {
   "cell_type": "code",
   "execution_count": 11,
   "id": "1ea5fc35",
   "metadata": {},
   "outputs": [],
   "source": [
    "performance_list = []"
   ]
  },
  {
   "cell_type": "markdown",
   "id": "f2ac72a6",
   "metadata": {},
   "source": [
    "# 4 Modèles supervisées"
   ]
  },
  {
   "cell_type": "markdown",
   "id": "fd80efbe",
   "metadata": {},
   "source": [
    "Il s'agit d'utiliser les modèles supervisés de classification des étiquettes multiples, car une question peut avoir plusieurs tags. Lorsque les mots sont transformés en vecteur binaires, les étiquettes binaires sont encore plus nombreux. "
   ]
  },
  {
   "cell_type": "code",
   "execution_count": 17,
   "id": "66167252",
   "metadata": {},
   "outputs": [],
   "source": [
    "def bow_classfication_full(X_train, X_test, y_train, y_test, classifier): \n",
    "    # instantiation Bag-of-Words\n",
    "    vectorizer = CountVectorizer()\n",
    "    # train et transform X_train en bow\n",
    "    X_train_bow = vectorizer.fit_transform(X_train)\n",
    "    # transform X_test en bow avec vectorizer de X_train\n",
    "    X_test_bow = vectorizer.transform(X_test)\n",
    "\n",
    "    # Créer les labels binaires pour les cibles, \n",
    "    mlb = MultiLabelBinarizer()\n",
    "    y_train_bin = mlb.fit_transform(y_train)\n",
    "    y_test_bin = mlb.transform(y_test)\n",
    "\n",
    "    # Entraîner un modèle de classification de multi etiquette, \\\n",
    "    # en utilisant classifieur binaire pour chaque étiquette. \n",
    "    model_bow = OneVsRestClassifier(classifier)\n",
    "    model_bow.fit(X_train_bow, y_train_bin)\n",
    "\n",
    "    # Prédire les étiquettes pour les données de test\n",
    "    y_pred_bin = model_bow.predict(X_test_bow)\n",
    "    \n",
    "    # Transformation inverse des labels prédits en texte\n",
    "    pred_labels = mlb.inverse_transform(y_pred_bin)    \n",
    "    \n",
    "    return y_pred_bin, y_test_bin, model_bow, mlb, vectorizer"
   ]
  },
  {
   "cell_type": "code",
   "execution_count": null,
   "id": "0e1a312b",
   "metadata": {},
   "outputs": [],
   "source": [
    "def bow_classfication(X_train, X_test, y_train, y_test, classifier): \n",
    "    # instantiation Bag-of-Words\n",
    "    vectorizer = CountVectorizer()\n",
    "    # train et transform X_train en bow\n",
    "    X_train_bow = vectorizer.fit_transform(X_train)\n",
    "    # transform X_test en bow avec vectorizer de X_train\n",
    "    X_test_bow = vectorizer.transform(X_test)\n",
    "\n",
    "    # Créer les labels binaires pour les cibles, \n",
    "    mlb = MultiLabelBinarizer()\n",
    "    y_train_bin = mlb.fit_transform(y_train)\n",
    "    y_test_bin = mlb.transform(y_test)\n",
    "\n",
    "    # Entraîner un modèle de classification de multi etiquette, \\\n",
    "    # en utilisant classifieur binaire pour chaque étiquette. \n",
    "    model_bow = OneVsRestClassifier(classifier)\n",
    "    model_bow.fit(X_train_bow, y_train_bin)\n",
    "\n",
    "    # Prédire les étiquettes pour les données de test\n",
    "    y_pred_bin = model_bow.predict(X_test_bow)\n",
    "    \n",
    "    return y_pred_bin, y_test_bin"
   ]
  },
  {
   "cell_type": "markdown",
   "id": "6ce3030c",
   "metadata": {},
   "source": [
    "## 4.1 Bag of words"
   ]
  },
  {
   "cell_type": "markdown",
   "id": "53fb1742",
   "metadata": {},
   "source": [
    "Classification avec les vecteurs creuses"
   ]
  },
  {
   "cell_type": "markdown",
   "id": "324d68fd",
   "metadata": {},
   "source": [
    "### 4.1.1   BOW + Logistique Regression"
   ]
  },
  {
   "cell_type": "code",
   "execution_count": 18,
   "id": "a6964ecd",
   "metadata": {},
   "outputs": [
    {
     "name": "stdout",
     "output_type": "stream",
     "text": [
      "Durée d'exécution : 44.60898756980896 secondes\n"
     ]
    }
   ],
   "source": [
    "start_time = time.time()\n",
    "classifier = LogisticRegression()\n",
    "y_pred_bin, y_test_bin, model_bowLG, mlb_LG, vectorizer_LG  = bow_classfication_full(X_train, X_test, y_train, y_test, classifier)\n",
    "end_time = time.time()\n",
    "execution_time = end_time - start_time\n",
    "print(\"Durée d'exécution :\", execution_time, \"secondes\")"
   ]
  },
  {
   "cell_type": "code",
   "execution_count": 19,
   "id": "10a8b39a",
   "metadata": {},
   "outputs": [
    {
     "name": "stdout",
     "output_type": "stream",
     "text": [
      "res [0.75082106283706, 0.0063, 0.8609904108954464, 0.8543925860888033, 0.8576788099869176]\n"
     ]
    }
   ],
   "source": [
    "result = classification_perm(y_test_bin, y_pred_bin)\n",
    "print('res', result)\n",
    "y_resultat = ['Bag of words : LG', result, execution_time]\n",
    "performance_list.append(y_resultat)"
   ]
  },
  {
   "cell_type": "code",
   "execution_count": 15,
   "id": "65e9c473",
   "metadata": {},
   "outputs": [
    {
     "data": {
      "image/png": "[encoded data removed]",
      "text/plain": [
       "<Figure size 2000x500 with 4 Axes>"
      ]
     },
     "metadata": {},
     "output_type": "display_data"
    }
   ],
   "source": [
    "plot_confusion_matrix(y_test_bin, y_pred_bin, label_list=['ipad', 'java', 'android', 'sql'])"
   ]
  },
  {
   "cell_type": "code",
   "execution_count": 16,
   "id": "11fa1908",
   "metadata": {},
   "outputs": [
    {
     "data": {
      "text/plain": [
       "array([[1, 0, 1, 0, 1, 0, 0, 0, 0, 0, 0, 0, 0, 0, 0, 0, 0, 1, 1, 1, 1, 1,\n",
       "        0, 1, 0, 0, 1, 1, 1, 0, 1, 1, 0, 1, 1, 1, 1, 1, 1, 1, 1, 0, 0, 1,\n",
       "        0]])"
      ]
     },
     "execution_count": 16,
     "metadata": {},
     "output_type": "execute_result"
    }
   ],
   "source": [
    "y_test_bin[:1]"
   ]
  },
  {
   "cell_type": "code",
   "execution_count": 17,
   "id": "2437e932",
   "metadata": {},
   "outputs": [
    {
     "data": {
      "text/plain": [
       "array([[1, 0, 1, 0, 1, 1, 0, 0, 0, 1, 0, 0, 1, 0, 0, 0, 0, 1, 1, 1, 1, 0,\n",
       "        1, 1, 0, 0, 1, 1, 1, 0, 1, 0, 1, 0, 1, 1, 1, 1, 1, 0, 1, 0, 0, 1,\n",
       "        0]])"
      ]
     },
     "execution_count": 17,
     "metadata": {},
     "output_type": "execute_result"
    }
   ],
   "source": [
    "y_pred_bin[:1]"
   ]
  },
  {
   "cell_type": "markdown",
   "id": "4d4659e8",
   "metadata": {},
   "source": [
    "Stocker le modèle entrainé "
   ]
  },
  {
   "cell_type": "code",
   "execution_count": 21,
   "id": "50c3d24c",
   "metadata": {},
   "outputs": [],
   "source": [
    "import pickle\n",
    "\n",
    "with open('modele_bowLG.pkl', 'wb') as model_file:\n",
    "    pickle.dump(model_bowLG, model_file)\n",
    "with open('vectorizer.pkl', 'wb') as vectorizer_file:\n",
    "    pickle.dump(vectorizer_LG, vectorizer_file)    \n",
    "with open('mlb.pkl', 'wb') as mlb_file:\n",
    "    pickle.dump(mlb_LG, mlb_file)"
   ]
  },
  {
   "cell_type": "markdown",
   "id": "61d9a162",
   "metadata": {},
   "source": [
    "### 4.1.2   BOW + SGDC"
   ]
  },
  {
   "cell_type": "code",
   "execution_count": 18,
   "id": "cef0d1e3",
   "metadata": {},
   "outputs": [
    {
     "name": "stdout",
     "output_type": "stream",
     "text": [
      "Durée d'exécution : 20.492836952209473 secondes\n"
     ]
    }
   ],
   "source": [
    "from sklearn.linear_model import SGDClassifier\n",
    "\n",
    "start_time = time.time()\n",
    "model = SGDClassifier()\n",
    "y_pred_bin, y_test_bin = bow_classfication(X_train, X_test, y_train, y_test, model)\n",
    "end_time = time.time()\n",
    "execution_time = end_time - start_time\n",
    "print(\"Durée d'exécution :\", execution_time, \"secondes\")"
   ]
  },
  {
   "cell_type": "code",
   "execution_count": 19,
   "id": "78e3e231",
   "metadata": {},
   "outputs": [
    {
     "name": "stdout",
     "output_type": "stream",
     "text": [
      "res [0.7487492580344272, 0.0054, 0.8602804041828659, 0.8524067170182543, 0.8563254618629687]\n"
     ]
    }
   ],
   "source": [
    "result = classification_perm(y_test_bin, y_pred_bin)\n",
    "print('res', result)\n",
    "y_resultat = ['Bag of words : SGDC', result, execution_time]\n",
    "performance_list.append(y_resultat)"
   ]
  },
  {
   "cell_type": "code",
   "execution_count": 20,
   "id": "489dede6",
   "metadata": {},
   "outputs": [
    {
     "data": {
      "image/png": "[encoded data removed]",
      "text/plain": [
       "<Figure size 2000x500 with 4 Axes>"
      ]
     },
     "metadata": {},
     "output_type": "display_data"
    }
   ],
   "source": [
    "plot_confusion_matrix(y_test_bin, y_pred_bin, label_list=['ipad', 'java', 'android', 'sql'])"
   ]
  },
  {
   "cell_type": "markdown",
   "id": "1795a754",
   "metadata": {},
   "source": [
    "### 4.1.3 BOW + arbre de decision"
   ]
  },
  {
   "cell_type": "code",
   "execution_count": 21,
   "id": "2f53f228",
   "metadata": {},
   "outputs": [],
   "source": [
    "start_time = time.time()"
   ]
  },
  {
   "cell_type": "code",
   "execution_count": 22,
   "id": "7143fa8b",
   "metadata": {},
   "outputs": [],
   "source": [
    "from sklearn import tree\n",
    "# Création du modèle d'arbre de décision\n",
    "model_arbre = tree.DecisionTreeClassifier()\n",
    "y_pred_arbre, y_test_arbre = bow_classfication(X_train, X_test, y_train, y_test, model_arbre)"
   ]
  },
  {
   "cell_type": "code",
   "execution_count": 23,
   "id": "825ba57f",
   "metadata": {},
   "outputs": [
    {
     "name": "stdout",
     "output_type": "stream",
     "text": [
      "Durée d'exécution : 1012.5452356338501 secondes\n"
     ]
    }
   ],
   "source": [
    "end_time = time.time()\n",
    "execution_time = end_time - start_time\n",
    "print(\"Durée d'exécution :\", execution_time, \"secondes\")"
   ]
  },
  {
   "cell_type": "code",
   "execution_count": 24,
   "id": "bf667142",
   "metadata": {},
   "outputs": [
    {
     "name": "stdout",
     "output_type": "stream",
     "text": [
      "res [0.7019830781501697, 0.0012, 0.8244607818376353, 0.8253400570937358, 0.824900185157108]\n"
     ]
    }
   ],
   "source": [
    "result = classification_perm(y_test_arbre, y_pred_arbre)\n",
    "print('res', result)\n",
    "y_resultat = ['Bag of words : Arbre', result, execution_time]\n",
    "performance_list.append(y_resultat)"
   ]
  },
  {
   "cell_type": "code",
   "execution_count": 25,
   "id": "22d0e170",
   "metadata": {},
   "outputs": [
    {
     "data": {
      "image/png": "[encoded data removed]",
      "text/plain": [
       "<Figure size 2000x500 with 4 Axes>"
      ]
     },
     "metadata": {},
     "output_type": "display_data"
    }
   ],
   "source": [
    "plot_confusion_matrix(y_test_bin, y_pred_bin, label_list=['ipad', 'java', 'android', 'sql'])"
   ]
  },
  {
   "cell_type": "markdown",
   "id": "71a48d47",
   "metadata": {},
   "source": [
    "### 4.1.4 BOW + Naive Bayes  (besoin de matrice dense)"
   ]
  },
  {
   "cell_type": "code",
   "execution_count": 26,
   "id": "823b35ba",
   "metadata": {},
   "outputs": [],
   "source": [
    "def nb_classfication(X_train, X_test, y_train, y_test, classifier): \n",
    "    # instantiation Bag-of-Words\n",
    "    vectorizer = CountVectorizer()\n",
    "    # train et transform X_train en bow\n",
    "    X_train_bow = vectorizer.fit_transform(X_train)\n",
    "    # Convertir X_train_bow en une matrice dense\n",
    "    X_train_bow_dense = X_train_bow.toarray()\n",
    "    # transform X_test en bow avec vectorizer de X_train\n",
    "    X_test_bow = vectorizer.transform(X_test)\n",
    "    # Convertir X_test_bow en une matrice dense\n",
    "    X_test_bow_dense = X_test_bow.toarray()\n",
    "\n",
    "    # Créer les labels binaires pour les cibles, \n",
    "    mlb = MultiLabelBinarizer()\n",
    "    y_train_bin = mlb.fit_transform(y_train)\n",
    "    y_test_bin = mlb.transform(y_test)\n",
    "\n",
    "    # Entraîner un modèle de classification de multi etiquette, \\\n",
    "    # en utilisant classifieur binaire pour chaque étiquette. \n",
    "    model_bow = OneVsRestClassifier(classifier)\n",
    "    model_bow.fit(X_train_bow_dense, y_train_bin)\n",
    "\n",
    "    # Prédire les étiquettes pour les données de test\n",
    "    y_pred_bin = model_bow.predict(X_test_bow_dense)\n",
    "    \n",
    "    return y_pred_bin, y_test_bin"
   ]
  },
  {
   "cell_type": "code",
   "execution_count": 27,
   "id": "9db47e05",
   "metadata": {},
   "outputs": [],
   "source": [
    "start_time = time.time()"
   ]
  },
  {
   "cell_type": "code",
   "execution_count": 28,
   "id": "14401bf3",
   "metadata": {},
   "outputs": [],
   "source": [
    "from sklearn.naive_bayes import GaussianNB\n",
    "# Création du classifieur Naive Bayes\n",
    "model_nb = GaussianNB()\n",
    "y_pred_nb, y_test_nb = nb_classfication(X_train, X_test, y_train, y_test, model_nb)"
   ]
  },
  {
   "cell_type": "code",
   "execution_count": 29,
   "id": "169ca93c",
   "metadata": {},
   "outputs": [
    {
     "name": "stdout",
     "output_type": "stream",
     "text": [
      "Durée d'exécution : 837.3399379253387 secondes\n"
     ]
    }
   ],
   "source": [
    "end_time = time.time()\n",
    "execution_time = end_time - start_time\n",
    "print(\"Durée d'exécution :\", execution_time, \"secondes\")"
   ]
  },
  {
   "cell_type": "code",
   "execution_count": 30,
   "id": "18de9abe",
   "metadata": {},
   "outputs": [
    {
     "name": "stdout",
     "output_type": "stream",
     "text": [
      "res [0.48925042988105777, 0.0006, 0.6510671715553309, 0.6631285712315607, 0.6570425229558373]\n"
     ]
    }
   ],
   "source": [
    "result = classification_perm(y_test_nb, y_pred_nb)\n",
    "print('res', result)\n",
    "y_resultat = ['Bag of words : NB', result, execution_time]\n",
    "performance_list.append(y_resultat)"
   ]
  },
  {
   "cell_type": "code",
   "execution_count": 31,
   "id": "e335b5ef",
   "metadata": {},
   "outputs": [
    {
     "data": {
      "image/png": "[encoded data removed]",
      "text/plain": [
       "<Figure size 2000x500 with 4 Axes>"
      ]
     },
     "metadata": {},
     "output_type": "display_data"
    }
   ],
   "source": [
    "plot_confusion_matrix(y_test_bin, y_pred_bin, label_list=['ipad', 'java', 'android', 'sql'])"
   ]
  },
  {
   "cell_type": "markdown",
   "id": "e0891ced",
   "metadata": {},
   "source": [
    "## 4.2. Word embedding "
   ]
  },
  {
   "cell_type": "markdown",
   "id": "7f0efd89",
   "metadata": {},
   "source": [
    "Word Embedding est une méthode qui permet de représenter des mots sous forme de vecteurs numériques denses"
   ]
  },
  {
   "cell_type": "code",
   "execution_count": 32,
   "id": "ce9d05ef",
   "metadata": {},
   "outputs": [],
   "source": [
    "X = data[['Title_tokens', 'Body_tokens','Score', 'AnswerCount']].copy()\n",
    "y = data[['Tag_token']].copy()\n",
    "\n",
    "# re tokenisations des variables tockens suite à la lecture csv qui lit champe en string,  mise à jour aussi dans dataframe data. \n",
    "X['Title_tokens'] = X['Title_tokens'].apply(lambda x: re.sub('[^a-zA-Z_]', ' ', str(x)))\n",
    "X['Title_tokens'] = X['Title_tokens'].apply(nltk.word_tokenize)\n",
    "X['Body_tokens'] = X['Body_tokens'].apply(lambda x: re.sub('[^a-zA-Z_]', ' ', str(x)))\n",
    "X['Body_tokens'] = X['Body_tokens'].apply(nltk.word_tokenize)\n",
    "y['Tag_token'] = y['Tag_token'].apply(lambda x: re.sub('[^a-zA-Z_]', ' ', str(x)))\n",
    "y['Tag_token'] = y['Tag_token'].apply(nltk.word_tokenize)\n",
    "\n",
    "# Split the Title_tokens into train and test sets\n",
    "X_train, X_test, y_train, y_test = train_test_split(X['Title_tokens'], data['Tag_token'], test_size=0.2, random_state=42)\n",
    "\n",
    "#X_train_title = X_train['Title_tokens']\n",
    "#X_test_title = X_test['Title_tokens']\n",
    "#X_train_body = X_train['Body_tokens']\n",
    "#X_test_body = X_test['Body_tokens']"
   ]
  },
  {
   "cell_type": "code",
   "execution_count": 33,
   "id": "2d47bf64",
   "metadata": {},
   "outputs": [
    {
     "data": {
      "text/plain": [
       "39087                                  [stored, procedure]\n",
       "30893                         [run, fly, tomcat, netbeans]\n",
       "45278    [show, gray, color, view, io, navigation, bar,...\n",
       "16398    [form, authentication, ticket, decryption, pos...\n",
       "13653                                    [validation, yii]\n",
       "Name: Title_tokens, dtype: object"
      ]
     },
     "execution_count": 33,
     "metadata": {},
     "output_type": "execute_result"
    }
   ],
   "source": [
    "X_train.head()"
   ]
  },
  {
   "cell_type": "code",
   "execution_count": 34,
   "id": "70e84eaa",
   "metadata": {},
   "outputs": [],
   "source": [
    "def dense_classfication(sentence_embeddings, labels, classifier):\n",
    "\n",
    "    # Vectorisation des labels multilabels\n",
    "    mlb = MultiLabelBinarizer()\n",
    "    labels_binary = mlb.fit_transform(labels)\n",
    "\n",
    "    # Division des données en ensembles d'entraînement et de test\n",
    "    split = int(0.8 * len(sentence_embeddings))\n",
    "    X_train, X_test = sentence_embeddings[:split], sentence_embeddings[split:]\n",
    "    y_train, y_test = labels_binary[:split], labels_binary[split:]\n",
    "\n",
    "    # Entraînement du classificateur OneVsRest avec classifier\n",
    "    model_dense = OneVsRestClassifier(classifier)\n",
    "    model_dense.fit(X_train, y_train)\n",
    "\n",
    "    # Prédiction sur l'ensemble de test\n",
    "    y_pred = model_dense.predict(X_test)\n",
    "\n",
    "    # Transformation inverse des labels prédits en texte\n",
    "    pred_labels = mlb.inverse_transform(y_pred)\n",
    "    true_labels = mlb.inverse_transform(y_test)\n",
    "    \n",
    "    return y_test, y_pred, true_labels, pred_labels"
   ]
  },
  {
   "cell_type": "markdown",
   "id": "717e7a29",
   "metadata": {},
   "source": [
    "### 4.2.1 Word2vec"
   ]
  },
  {
   "cell_type": "raw",
   "id": "c070301a",
   "metadata": {},
   "source": [
    "1) Création des données textuelles (sentences) pour l'entrainement\n",
    "2) Entraînement du modèle Word2Vec : Les données prétraitées sont utilisées pour entraîner un modèle Word2Vec qui apprend les embeddings des mots. Le modèle attribue un vecteur dense à chaque mot du vocabulaire en capturant les relations sémantiques et syntaxiques entre les mots."
   ]
  },
  {
   "cell_type": "code",
   "execution_count": 35,
   "id": "2000d077",
   "metadata": {},
   "outputs": [],
   "source": [
    "# Prétraitement des données et création des embeddings de mots\n",
    "sentences = X['Title_tokens'].to_list()\n",
    "model = Word2Vec(sentences, vector_size=100, window=5, min_count=1, workers=4)"
   ]
  },
  {
   "cell_type": "code",
   "execution_count": 36,
   "id": "af74d3db",
   "metadata": {},
   "outputs": [],
   "source": [
    "# Création des embeddings de phrases\n",
    "sentence_embeddings = []\n",
    "for sentence in sentences:\n",
    "    embeddings = [model.wv[word] for word in sentence if word in model.wv]\n",
    "    if embeddings:\n",
    "        sentence_embeddings.append(np.mean(embeddings, axis=0))\n",
    "    else:\n",
    "        sentence_embeddings.append(np.zeros(model.vector_size))\n",
    "sentence_embeddings = np.array(sentence_embeddings)"
   ]
  },
  {
   "cell_type": "code",
   "execution_count": 37,
   "id": "025826ba",
   "metadata": {},
   "outputs": [],
   "source": [
    "# Création des labels multilabels\n",
    "labels = y['Tag_token'].tolist()\n",
    "classifier = LogisticRegression()"
   ]
  },
  {
   "cell_type": "code",
   "execution_count": 38,
   "id": "03fb5ba8",
   "metadata": {},
   "outputs": [
    {
     "name": "stdout",
     "output_type": "stream",
     "text": [
      "Durée d'exécution : 1528.198542356491 secondes\n"
     ]
    }
   ],
   "source": [
    "# prédiction\n",
    "start_time = time.time()\n",
    "y_test, y_pred, true_labels, pred_labels = dense_classfication(sentence_embeddings, labels, classifier)\n",
    "end_time = time.time()\n",
    "execution_time = end_time - start_time\n",
    "print(\"Durée d'exécution :\", execution_time, \"secondes\")"
   ]
  },
  {
   "cell_type": "code",
   "execution_count": 39,
   "id": "92fec796",
   "metadata": {},
   "outputs": [
    {
     "name": "stdout",
     "output_type": "stream",
     "text": [
      "res [0.07576323322842766, 0.0008, 0.7068679495686795, 0.07822080258471932, 0.14085484777362733]\n"
     ]
    }
   ],
   "source": [
    "result = classification_perm(y_test, y_pred)\n",
    "print('res', result)\n",
    "y_resultat = ['W2V : LG', result, execution_time]\n",
    "performance_list.append(y_resultat)"
   ]
  },
  {
   "cell_type": "code",
   "execution_count": 40,
   "id": "656c54d8",
   "metadata": {},
   "outputs": [
    {
     "data": {
      "image/png": "[encoded data removed]",
      "text/plain": [
       "<Figure size 2000x500 with 4 Axes>"
      ]
     },
     "metadata": {},
     "output_type": "display_data"
    }
   ],
   "source": [
    "plot_confusion_matrix(y_test, y_pred, label_list=['ipad', 'java', 'android', 'sql'])"
   ]
  },
  {
   "cell_type": "markdown",
   "id": "29ff8bd9",
   "metadata": {},
   "source": [
    "### 4.2.2 BERT"
   ]
  },
  {
   "cell_type": "raw",
   "id": "01085825",
   "metadata": {},
   "source": []
  },
  {
   "cell_type": "code",
   "execution_count": 41,
   "id": "a93d5a45",
   "metadata": {},
   "outputs": [],
   "source": [
    "# Charger le modèle BERT pre entrainé \n",
    "from sentence_transformers import SentenceTransformer\n",
    "\n",
    "model = SentenceTransformer('all-MiniLM-L6-v2')"
   ]
  },
  {
   "cell_type": "code",
   "execution_count": 43,
   "id": "cc9c2686",
   "metadata": {},
   "outputs": [],
   "source": [
    "# Prétraitement des données et création des embeddings de phrases\n",
    "Title = data['Title'].copy()\n",
    "sentences = Title.to_list()\n",
    "sentence_embeddings = model.encode(sentences)"
   ]
  },
  {
   "cell_type": "code",
   "execution_count": 44,
   "id": "34d90d68",
   "metadata": {},
   "outputs": [],
   "source": [
    "# Création des labels multilabels\n",
    "labels = y['Tag_token'].tolist()\n",
    "classifier = LogisticRegression()"
   ]
  },
  {
   "cell_type": "code",
   "execution_count": 45,
   "id": "edec6bd1",
   "metadata": {},
   "outputs": [
    {
     "name": "stdout",
     "output_type": "stream",
     "text": [
      "Durée d'exécution : 2678.820843219757 secondes\n"
     ]
    }
   ],
   "source": [
    "# 4500s,   75min\n",
    "start_time = time.time()\n",
    "y_test, y_pred, true_labels, pred_labels = dense_classfication(sentence_embeddings, labels, classifier)\n",
    "end_time = time.time()\n",
    "execution_time = end_time - start_time\n",
    "print(\"Durée d'exécution :\", execution_time, \"secondes\")"
   ]
  },
  {
   "cell_type": "code",
   "execution_count": 46,
   "id": "aacf8655",
   "metadata": {},
   "outputs": [
    {
     "name": "stdout",
     "output_type": "stream",
     "text": [
      "res [0.22771474878444084, 0.0043, 0.7893730201422509, 0.24244593751147336, 0.3709570957095709]\n"
     ]
    }
   ],
   "source": [
    "result = classification_perm(y_test, y_pred)\n",
    "print('res', result)\n",
    "y_resultat = ['BERT : LG', result, execution_time]\n",
    "performance_list.append(y_resultat)"
   ]
  },
  {
   "cell_type": "code",
   "execution_count": 47,
   "id": "f29d7677",
   "metadata": {},
   "outputs": [
    {
     "data": {
      "image/png": "[encoded data removed]",
      "text/plain": [
       "<Figure size 2000x500 with 4 Axes>"
      ]
     },
     "metadata": {},
     "output_type": "display_data"
    }
   ],
   "source": [
    "plot_confusion_matrix(y_test, y_pred, label_list=['ipad', 'java', 'android', 'sql'])"
   ]
  },
  {
   "cell_type": "markdown",
   "id": "907e809d",
   "metadata": {},
   "source": [
    "### 4.2.3 USE (Universal Sentence Encoder)"
   ]
  },
  {
   "cell_type": "code",
   "execution_count": 48,
   "id": "96aa4816",
   "metadata": {},
   "outputs": [],
   "source": [
    "# Chargement du modèle USE pré-entraîné\n",
    "module_url = \"https://tfhub.dev/google/universal-sentence-encoder/4\"\n",
    "model = hub.load(module_url)"
   ]
  },
  {
   "cell_type": "code",
   "execution_count": 49,
   "id": "826627c4",
   "metadata": {},
   "outputs": [],
   "source": [
    "# Prétraitement des données et création des embeddings de phrases\n",
    "Title = data['Title'].copy()\n",
    "sentences = Title.to_list()\n",
    "sentence_embeddings = model(sentences).numpy()"
   ]
  },
  {
   "cell_type": "code",
   "execution_count": 50,
   "id": "7593be35",
   "metadata": {},
   "outputs": [],
   "source": [
    "# Création des labels multilabels\n",
    "labels = y['Tag_token'].tolist()\n",
    "classifier = LogisticRegression()"
   ]
  },
  {
   "cell_type": "code",
   "execution_count": 51,
   "id": "0035d08a",
   "metadata": {},
   "outputs": [
    {
     "name": "stdout",
     "output_type": "stream",
     "text": [
      "Durée d'exécution : 3780.985723257065 secondes\n"
     ]
    }
   ],
   "source": [
    "start_time = time.time()\n",
    "y_test, y_pred, true_labels, pred_labels = dense_classfication(sentence_embeddings, labels, classifier)\n",
    "end_time = time.time()\n",
    "execution_time = end_time - start_time\n",
    "print(\"Durée d'exécution :\", execution_time, \"secondes\")"
   ]
  },
  {
   "cell_type": "code",
   "execution_count": 52,
   "id": "a304dfe0",
   "metadata": {},
   "outputs": [
    {
     "name": "stdout",
     "output_type": "stream",
     "text": [
      "res [0.20680619186450092, 0.0025, 0.7909338288975908, 0.21876491537247128, 0.3427330639478869]\n"
     ]
    }
   ],
   "source": [
    "result = classification_perm(y_test, y_pred)\n",
    "print('res', result)\n",
    "y_resultat = ['USE : LG', result, execution_time]\n",
    "performance_list.append(y_resultat)"
   ]
  },
  {
   "cell_type": "code",
   "execution_count": 53,
   "id": "9c3801c4",
   "metadata": {},
   "outputs": [
    {
     "data": {
      "image/png": "[encoded data removed]",
      "text/plain": [
       "<Figure size 2000x500 with 4 Axes>"
      ]
     },
     "metadata": {},
     "output_type": "display_data"
    }
   ],
   "source": [
    "plot_confusion_matrix(y_test, y_pred, label_list=['ipad', 'java', 'android', 'sql'])"
   ]
  },
  {
   "cell_type": "code",
   "execution_count": 56,
   "id": "c5b1a3ae",
   "metadata": {},
   "outputs": [],
   "source": [
    "train_result = pd.DataFrame(performance_list, columns=['Modele', 'metriques', 'duration'])\n",
    "train_result.to_csv('classification_result.csv')"
   ]
  },
  {
   "cell_type": "code",
   "execution_count": null,
   "id": "dade5721",
   "metadata": {},
   "outputs": [],
   "source": []
  }
 ],
 "metadata": {
  "kernelspec": {
   "display_name": "Python 3 (ipykernel)",
   "language": "python",
   "name": "python3"
  },
  "language_info": {
   "codemirror_mode": {
    "name": "ipython",
    "version": 3
   },
   "file_extension": ".py",
   "mimetype": "text/x-python",
   "name": "python",
   "nbconvert_exporter": "python",
   "pygments_lexer": "ipython3",
   "version": "3.9.13"
  }
 },
 "nbformat": 4,
 "nbformat_minor": 5
}
