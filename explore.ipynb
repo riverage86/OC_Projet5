{
 "cells": [
  {
   "cell_type": "code",
   "execution_count": 38,
   "id": "849f9bb1",
   "metadata": {},
   "outputs": [],
   "source": [
    "import pandas as pd\n",
    "import numpy as np\n",
    "import warnings \n",
    "import nltk\n",
    "from nltk.tokenize import RegexpTokenizer\n",
    "from nltk.corpus import stopwords\n",
    "from nltk.stem import WordNetLemmatizer\n",
    "from nltk.tokenize import word_tokenize\n",
    "import re"
   ]
  },
  {
   "cell_type": "code",
   "execution_count": 69,
   "id": "39635166",
   "metadata": {},
   "outputs": [
    {
     "name": "stderr",
     "output_type": "stream",
     "text": [
      "[nltk_data] Downloading package punkt to\n",
      "[nltk_data]     C:\\Users\\utilisateur\\AppData\\Roaming\\nltk_data...\n",
      "[nltk_data]   Package punkt is already up-to-date!\n",
      "[nltk_data] Downloading package stopwords to\n",
      "[nltk_data]     C:\\Users\\utilisateur\\AppData\\Roaming\\nltk_data...\n",
      "[nltk_data]   Package stopwords is already up-to-date!\n",
      "[nltk_data] Downloading package wordnet to\n",
      "[nltk_data]     C:\\Users\\utilisateur\\AppData\\Roaming\\nltk_data...\n",
      "[nltk_data]   Package wordnet is already up-to-date!\n",
      "[nltk_data] Downloading package omw-1.4 to\n",
      "[nltk_data]     C:\\Users\\utilisateur\\AppData\\Roaming\\nltk_data...\n"
     ]
    },
    {
     "data": {
      "text/plain": [
       "True"
      ]
     },
     "execution_count": 69,
     "metadata": {},
     "output_type": "execute_result"
    }
   ],
   "source": [
    "warnings.filterwarnings('ignore')\n",
    "nltk.download('punkt')\n",
    "nltk.download('stopwords')\n",
    "nltk.download('wordnet')\n",
    "nltk.download('omw-1.4')"
   ]
  },
  {
   "cell_type": "code",
   "execution_count": 254,
   "id": "ac4b06da",
   "metadata": {},
   "outputs": [],
   "source": [
    "from bs4 import BeautifulSoup\n",
    "\n",
    "def remove_html_tags_code(text):\n",
    "    soup = BeautifulSoup(text, 'html.parser')\n",
    "    code_tags = soup.find_all('code')\n",
    "    for code_tag in code_tags:\n",
    "        code_tag.decompose()\n",
    "    return soup.get_text()"
   ]
  },
  {
   "cell_type": "code",
   "execution_count": 135,
   "id": "fd63fdb7",
   "metadata": {},
   "outputs": [],
   "source": [
    "def lemmatize_text(text):\n",
    "    lemmatizer = WordNetLemmatizer()\n",
    "    lemmatized_text = \" \".join([lemmatizer.lemmatize(word) for word in text.split()])\n",
    "    return lemmatized_text"
   ]
  },
  {
   "cell_type": "code",
   "execution_count": 84,
   "id": "53d2d4d9",
   "metadata": {},
   "outputs": [],
   "source": [
    "def remove_stop_short_words(text):\n",
    "    stop_words = set(stopwords.words(\"english\"))\n",
    "    filtered_text = \" \".join([word for word in text.split() if word not in stop_words and len(word) > 2])\n",
    "    return filtered_text"
   ]
  },
  {
   "cell_type": "code",
   "execution_count": null,
   "id": "0aebd8d1",
   "metadata": {},
   "outputs": [],
   "source": [
    "def remove_code_blocks(text):\n",
    "    # Define the regular expression pattern to match code blocks\n",
    "    pattern = r'```[\\s\\S]*?```'\n",
    "    \n",
    "    # Use re.sub() to replace the code blocks with an empty string\n",
    "    cleaned_text = re.sub(pattern, '', text)\n",
    "    \n",
    "    return cleaned_text\n"
   ]
  },
  {
   "cell_type": "code",
   "execution_count": 22,
   "id": "a3a609b5",
   "metadata": {},
   "outputs": [],
   "source": [
    "data =  pd.read_csv('QueryResults.csv',  engine = 'python',  on_bad_lines = 'skip', index_col=[0])"
   ]
  },
  {
   "cell_type": "code",
   "execution_count": 23,
   "id": "4a6268da",
   "metadata": {},
   "outputs": [
    {
     "data": {
      "text/plain": [
       "Index(['Body', 'Tags', 'Id', 'Score', 'ViewCount', 'FavoriteCount',\n",
       "       'AnswerCount'],\n",
       "      dtype='object')"
      ]
     },
     "execution_count": 23,
     "metadata": {},
     "output_type": "execute_result"
    }
   ],
   "source": [
    "col = data.columns\n",
    "col"
   ]
  },
  {
   "cell_type": "code",
   "execution_count": 24,
   "id": "b888dbc3",
   "metadata": {},
   "outputs": [],
   "source": [
    "data.reset_index(inplace=True)"
   ]
  },
  {
   "cell_type": "code",
   "execution_count": 25,
   "id": "ca51baa0",
   "metadata": {},
   "outputs": [
    {
     "data": {
      "text/plain": [
       "Index(['Title', 'Body', 'Tags', 'Id', 'Score', 'ViewCount', 'FavoriteCount',\n",
       "       'AnswerCount'],\n",
       "      dtype='object')"
      ]
     },
     "execution_count": 25,
     "metadata": {},
     "output_type": "execute_result"
    }
   ],
   "source": [
    "col = data.columns\n",
    "col"
   ]
  },
  {
   "cell_type": "code",
   "execution_count": 21,
   "id": "06c0105c",
   "metadata": {},
   "outputs": [],
   "source": [
    "# data.set_index('Id', inplace=True)"
   ]
  },
  {
   "cell_type": "code",
   "execution_count": 13,
   "id": "439ac67b",
   "metadata": {},
   "outputs": [
    {
     "data": {
      "text/plain": [
       "Index(['Title', 'Body', 'Tags', 'Score', 'ViewCount', 'FavoriteCount',\n",
       "       'AnswerCount'],\n",
       "      dtype='object')"
      ]
     },
     "execution_count": 13,
     "metadata": {},
     "output_type": "execute_result"
    }
   ],
   "source": [
    "col = data.columns\n",
    "col"
   ]
  },
  {
   "cell_type": "code",
   "execution_count": 26,
   "id": "3d86b2d3",
   "metadata": {},
   "outputs": [
    {
     "data": {
      "text/plain": [
       "(50000, 8)"
      ]
     },
     "execution_count": 26,
     "metadata": {},
     "output_type": "execute_result"
    }
   ],
   "source": [
    "data.shape"
   ]
  },
  {
   "cell_type": "code",
   "execution_count": 27,
   "id": "ff045133",
   "metadata": {},
   "outputs": [
    {
     "data": {
      "text/html": [
       "<div>\n",
       "<style scoped>\n",
       "    .dataframe tbody tr th:only-of-type {\n",
       "        vertical-align: middle;\n",
       "    }\n",
       "\n",
       "    .dataframe tbody tr th {\n",
       "        vertical-align: top;\n",
       "    }\n",
       "\n",
       "    .dataframe thead th {\n",
       "        text-align: right;\n",
       "    }\n",
       "</style>\n",
       "<table border=\"1\" class=\"dataframe\">\n",
       "  <thead>\n",
       "    <tr style=\"text-align: right;\">\n",
       "      <th></th>\n",
       "      <th>Title</th>\n",
       "      <th>Body</th>\n",
       "      <th>Tags</th>\n",
       "      <th>Id</th>\n",
       "      <th>Score</th>\n",
       "      <th>ViewCount</th>\n",
       "      <th>FavoriteCount</th>\n",
       "      <th>AnswerCount</th>\n",
       "    </tr>\n",
       "  </thead>\n",
       "  <tbody>\n",
       "    <tr>\n",
       "      <th>0</th>\n",
       "      <td>Access Denied when using Power Shell Remoting ...</td>\n",
       "      <td>&lt;p&gt;I want to remotely trigger some commands wi...</td>\n",
       "      <td>&lt;windows&gt;&lt;powershell&gt;&lt;server&gt;&lt;core&gt;&lt;remoting&gt;</td>\n",
       "      <td>54569222</td>\n",
       "      <td>2</td>\n",
       "      <td>2151</td>\n",
       "      <td>NaN</td>\n",
       "      <td>2</td>\n",
       "    </tr>\n",
       "    <tr>\n",
       "      <th>1</th>\n",
       "      <td>Preprocess SHPAML in Django's template loader?</td>\n",
       "      <td>&lt;p&gt;Is there any way to make Django's template ...</td>\n",
       "      <td>&lt;python&gt;&lt;django&gt;&lt;templates&gt;&lt;preprocessor&gt;&lt;shpaml&gt;</td>\n",
       "      <td>2131029</td>\n",
       "      <td>3</td>\n",
       "      <td>585</td>\n",
       "      <td>0.0</td>\n",
       "      <td>2</td>\n",
       "    </tr>\n",
       "    <tr>\n",
       "      <th>2</th>\n",
       "      <td>Writing eclipse templates</td>\n",
       "      <td>&lt;p&gt;I am writing django templates in Eclipse-&gt;p...</td>\n",
       "      <td>&lt;django&gt;&lt;eclipse&gt;&lt;templates&gt;&lt;eclipse-plugin&gt;&lt;e...</td>\n",
       "      <td>2131039</td>\n",
       "      <td>7</td>\n",
       "      <td>554</td>\n",
       "      <td>0.0</td>\n",
       "      <td>1</td>\n",
       "    </tr>\n",
       "    <tr>\n",
       "      <th>3</th>\n",
       "      <td>Auto update and build with eclipse and SVN</td>\n",
       "      <td>&lt;p&gt;every morning when i come to work i update ...</td>\n",
       "      <td>&lt;eclipse&gt;&lt;svn&gt;&lt;build-process&gt;&lt;performance&gt;&lt;sub...</td>\n",
       "      <td>2131045</td>\n",
       "      <td>2</td>\n",
       "      <td>1262</td>\n",
       "      <td>NaN</td>\n",
       "      <td>1</td>\n",
       "    </tr>\n",
       "    <tr>\n",
       "      <th>4</th>\n",
       "      <td>Use .NET in VB6 or classical ASP</td>\n",
       "      <td>&lt;p&gt;&lt;strong&gt;Duplicate of&lt;/strong&gt; &lt;a href=\"http...</td>\n",
       "      <td>&lt;.net&gt;&lt;com&gt;&lt;vb6&gt;&lt;asp-classic&gt;&lt;wrapper&gt;</td>\n",
       "      <td>2131111</td>\n",
       "      <td>3</td>\n",
       "      <td>1548</td>\n",
       "      <td>0.0</td>\n",
       "      <td>3</td>\n",
       "    </tr>\n",
       "  </tbody>\n",
       "</table>\n",
       "</div>"
      ],
      "text/plain": [
       "                                               Title  \\\n",
       "0  Access Denied when using Power Shell Remoting ...   \n",
       "1     Preprocess SHPAML in Django's template loader?   \n",
       "2                          Writing eclipse templates   \n",
       "3         Auto update and build with eclipse and SVN   \n",
       "4                   Use .NET in VB6 or classical ASP   \n",
       "\n",
       "                                                Body  \\\n",
       "0  <p>I want to remotely trigger some commands wi...   \n",
       "1  <p>Is there any way to make Django's template ...   \n",
       "2  <p>I am writing django templates in Eclipse->p...   \n",
       "3  <p>every morning when i come to work i update ...   \n",
       "4  <p><strong>Duplicate of</strong> <a href=\"http...   \n",
       "\n",
       "                                                Tags        Id  Score  \\\n",
       "0      <windows><powershell><server><core><remoting>  54569222      2   \n",
       "1  <python><django><templates><preprocessor><shpaml>   2131029      3   \n",
       "2  <django><eclipse><templates><eclipse-plugin><e...   2131039      7   \n",
       "3  <eclipse><svn><build-process><performance><sub...   2131045      2   \n",
       "4             <.net><com><vb6><asp-classic><wrapper>   2131111      3   \n",
       "\n",
       "   ViewCount  FavoriteCount  AnswerCount  \n",
       "0       2151            NaN            2  \n",
       "1        585            0.0            2  \n",
       "2        554            0.0            1  \n",
       "3       1262            NaN            1  \n",
       "4       1548            0.0            3  "
      ]
     },
     "execution_count": 27,
     "metadata": {},
     "output_type": "execute_result"
    }
   ],
   "source": [
    "data.head()"
   ]
  },
  {
   "cell_type": "markdown",
   "id": "831aa8db",
   "metadata": {},
   "source": [
    "# 1. Traitement des donnees"
   ]
  },
  {
   "cell_type": "markdown",
   "id": "677c521a",
   "metadata": {},
   "source": [
    "## 1.1 extrait les données initiales"
   ]
  },
  {
   "cell_type": "code",
   "execution_count": 279,
   "id": "1e4acf59",
   "metadata": {},
   "outputs": [],
   "source": [
    "corpus = data[['Id', 'Title', 'Body']].copy()"
   ]
  },
  {
   "cell_type": "markdown",
   "id": "85063c95",
   "metadata": {},
   "source": [
    "## 1.2 Traitements de title"
   ]
  },
  {
   "cell_type": "code",
   "execution_count": 280,
   "id": "44958cee",
   "metadata": {},
   "outputs": [
    {
     "data": {
      "text/plain": [
       "Id        int64\n",
       "Title    object\n",
       "Body     object\n",
       "dtype: object"
      ]
     },
     "execution_count": 280,
     "metadata": {},
     "output_type": "execute_result"
    }
   ],
   "source": [
    "corpus.dtypes"
   ]
  },
  {
   "cell_type": "code",
   "execution_count": 281,
   "id": "b9e93cd4",
   "metadata": {},
   "outputs": [],
   "source": [
    "# Normalisation de la casse (mise en minuscules)\n",
    "corpus['Title_process'] = corpus['Title'].str.lower()"
   ]
  },
  {
   "cell_type": "code",
   "execution_count": 282,
   "id": "91027134",
   "metadata": {},
   "outputs": [
    {
     "data": {
      "text/html": [
       "<div>\n",
       "<style scoped>\n",
       "    .dataframe tbody tr th:only-of-type {\n",
       "        vertical-align: middle;\n",
       "    }\n",
       "\n",
       "    .dataframe tbody tr th {\n",
       "        vertical-align: top;\n",
       "    }\n",
       "\n",
       "    .dataframe thead th {\n",
       "        text-align: right;\n",
       "    }\n",
       "</style>\n",
       "<table border=\"1\" class=\"dataframe\">\n",
       "  <thead>\n",
       "    <tr style=\"text-align: right;\">\n",
       "      <th></th>\n",
       "      <th>Id</th>\n",
       "      <th>Title</th>\n",
       "      <th>Body</th>\n",
       "      <th>Title_process</th>\n",
       "    </tr>\n",
       "  </thead>\n",
       "  <tbody>\n",
       "    <tr>\n",
       "      <th>0</th>\n",
       "      <td>54569222</td>\n",
       "      <td>Access Denied when using Power Shell Remoting ...</td>\n",
       "      <td>&lt;p&gt;I want to remotely trigger some commands wi...</td>\n",
       "      <td>[access, denied, when, using, power, shell, re...</td>\n",
       "    </tr>\n",
       "    <tr>\n",
       "      <th>1</th>\n",
       "      <td>2131029</td>\n",
       "      <td>Preprocess SHPAML in Django's template loader?</td>\n",
       "      <td>&lt;p&gt;Is there any way to make Django's template ...</td>\n",
       "      <td>[preprocess, shpaml, in, django, 's, template,...</td>\n",
       "    </tr>\n",
       "    <tr>\n",
       "      <th>2</th>\n",
       "      <td>2131039</td>\n",
       "      <td>Writing eclipse templates</td>\n",
       "      <td>&lt;p&gt;I am writing django templates in Eclipse-&gt;p...</td>\n",
       "      <td>[writing, eclipse, templates]</td>\n",
       "    </tr>\n",
       "    <tr>\n",
       "      <th>3</th>\n",
       "      <td>2131045</td>\n",
       "      <td>Auto update and build with eclipse and SVN</td>\n",
       "      <td>&lt;p&gt;every morning when i come to work i update ...</td>\n",
       "      <td>[auto, update, and, build, with, eclipse, and,...</td>\n",
       "    </tr>\n",
       "    <tr>\n",
       "      <th>4</th>\n",
       "      <td>2131111</td>\n",
       "      <td>Use .NET in VB6 or classical ASP</td>\n",
       "      <td>&lt;p&gt;&lt;strong&gt;Duplicate of&lt;/strong&gt; &lt;a href=\"http...</td>\n",
       "      <td>[use, .net, in, vb6, or, classical, asp]</td>\n",
       "    </tr>\n",
       "  </tbody>\n",
       "</table>\n",
       "</div>"
      ],
      "text/plain": [
       "         Id                                              Title  \\\n",
       "0  54569222  Access Denied when using Power Shell Remoting ...   \n",
       "1   2131029     Preprocess SHPAML in Django's template loader?   \n",
       "2   2131039                          Writing eclipse templates   \n",
       "3   2131045         Auto update and build with eclipse and SVN   \n",
       "4   2131111                   Use .NET in VB6 or classical ASP   \n",
       "\n",
       "                                                Body  \\\n",
       "0  <p>I want to remotely trigger some commands wi...   \n",
       "1  <p>Is there any way to make Django's template ...   \n",
       "2  <p>I am writing django templates in Eclipse->p...   \n",
       "3  <p>every morning when i come to work i update ...   \n",
       "4  <p><strong>Duplicate of</strong> <a href=\"http...   \n",
       "\n",
       "                                       Title_process  \n",
       "0  [access, denied, when, using, power, shell, re...  \n",
       "1  [preprocess, shpaml, in, django, 's, template,...  \n",
       "2                      [writing, eclipse, templates]  \n",
       "3  [auto, update, and, build, with, eclipse, and,...  \n",
       "4           [use, .net, in, vb6, or, classical, asp]  "
      ]
     },
     "execution_count": 282,
     "metadata": {},
     "output_type": "execute_result"
    }
   ],
   "source": [
    "# Tokenization (découpage en mots)\n",
    "corpus['Title_process'] = corpus['Title_process'].astype(str).apply(nltk.word_tokenize)\n",
    "corpus.head()"
   ]
  },
  {
   "cell_type": "code",
   "execution_count": 283,
   "id": "ea95323b",
   "metadata": {},
   "outputs": [
    {
     "data": {
      "text/html": [
       "<div>\n",
       "<style scoped>\n",
       "    .dataframe tbody tr th:only-of-type {\n",
       "        vertical-align: middle;\n",
       "    }\n",
       "\n",
       "    .dataframe tbody tr th {\n",
       "        vertical-align: top;\n",
       "    }\n",
       "\n",
       "    .dataframe thead th {\n",
       "        text-align: right;\n",
       "    }\n",
       "</style>\n",
       "<table border=\"1\" class=\"dataframe\">\n",
       "  <thead>\n",
       "    <tr style=\"text-align: right;\">\n",
       "      <th></th>\n",
       "      <th>Id</th>\n",
       "      <th>Title</th>\n",
       "      <th>Body</th>\n",
       "      <th>Title_process</th>\n",
       "    </tr>\n",
       "  </thead>\n",
       "  <tbody>\n",
       "    <tr>\n",
       "      <th>0</th>\n",
       "      <td>54569222</td>\n",
       "      <td>Access Denied when using Power Shell Remoting ...</td>\n",
       "      <td>&lt;p&gt;I want to remotely trigger some commands wi...</td>\n",
       "      <td>access    denied    when    using    power  ...</td>\n",
       "    </tr>\n",
       "    <tr>\n",
       "      <th>1</th>\n",
       "      <td>2131029</td>\n",
       "      <td>Preprocess SHPAML in Django's template loader?</td>\n",
       "      <td>&lt;p&gt;Is there any way to make Django's template ...</td>\n",
       "      <td>preprocess    shpaml    in    django     s  ...</td>\n",
       "    </tr>\n",
       "    <tr>\n",
       "      <th>2</th>\n",
       "      <td>2131039</td>\n",
       "      <td>Writing eclipse templates</td>\n",
       "      <td>&lt;p&gt;I am writing django templates in Eclipse-&gt;p...</td>\n",
       "      <td>writing    eclipse    templates</td>\n",
       "    </tr>\n",
       "    <tr>\n",
       "      <th>3</th>\n",
       "      <td>2131045</td>\n",
       "      <td>Auto update and build with eclipse and SVN</td>\n",
       "      <td>&lt;p&gt;every morning when i come to work i update ...</td>\n",
       "      <td>auto    update    and    build    with    ec...</td>\n",
       "    </tr>\n",
       "    <tr>\n",
       "      <th>4</th>\n",
       "      <td>2131111</td>\n",
       "      <td>Use .NET in VB6 or classical ASP</td>\n",
       "      <td>&lt;p&gt;&lt;strong&gt;Duplicate of&lt;/strong&gt; &lt;a href=\"http...</td>\n",
       "      <td>use     net    in    vb6    or    classical ...</td>\n",
       "    </tr>\n",
       "  </tbody>\n",
       "</table>\n",
       "</div>"
      ],
      "text/plain": [
       "         Id                                              Title  \\\n",
       "0  54569222  Access Denied when using Power Shell Remoting ...   \n",
       "1   2131029     Preprocess SHPAML in Django's template loader?   \n",
       "2   2131039                          Writing eclipse templates   \n",
       "3   2131045         Auto update and build with eclipse and SVN   \n",
       "4   2131111                   Use .NET in VB6 or classical ASP   \n",
       "\n",
       "                                                Body  \\\n",
       "0  <p>I want to remotely trigger some commands wi...   \n",
       "1  <p>Is there any way to make Django's template ...   \n",
       "2  <p>I am writing django templates in Eclipse->p...   \n",
       "3  <p>every morning when i come to work i update ...   \n",
       "4  <p><strong>Duplicate of</strong> <a href=\"http...   \n",
       "\n",
       "                                       Title_process  \n",
       "0    access    denied    when    using    power  ...  \n",
       "1    preprocess    shpaml    in    django     s  ...  \n",
       "2                  writing    eclipse    templates    \n",
       "3    auto    update    and    build    with    ec...  \n",
       "4    use     net    in    vb6    or    classical ...  "
      ]
     },
     "execution_count": 283,
     "metadata": {},
     "output_type": "execute_result"
    }
   ],
   "source": [
    "# Supprimer les caractères spéciaux  \n",
    "# les caractères qui ne sont pas des lettres de l'alphabet (majuscules ou minuscules) ni des chiffres sauf '-'\n",
    "corpus['Title_process'] = corpus['Title_process'].apply(lambda x: re.sub('[^a-zA-Z0-9_]', ' ', str(x)))\n",
    "corpus.head()"
   ]
  },
  {
   "cell_type": "code",
   "execution_count": 284,
   "id": "caaba6eb",
   "metadata": {},
   "outputs": [
    {
     "data": {
      "text/html": [
       "<div>\n",
       "<style scoped>\n",
       "    .dataframe tbody tr th:only-of-type {\n",
       "        vertical-align: middle;\n",
       "    }\n",
       "\n",
       "    .dataframe tbody tr th {\n",
       "        vertical-align: top;\n",
       "    }\n",
       "\n",
       "    .dataframe thead th {\n",
       "        text-align: right;\n",
       "    }\n",
       "</style>\n",
       "<table border=\"1\" class=\"dataframe\">\n",
       "  <thead>\n",
       "    <tr style=\"text-align: right;\">\n",
       "      <th></th>\n",
       "      <th>Id</th>\n",
       "      <th>Title</th>\n",
       "      <th>Body</th>\n",
       "      <th>Title_process</th>\n",
       "    </tr>\n",
       "  </thead>\n",
       "  <tbody>\n",
       "    <tr>\n",
       "      <th>0</th>\n",
       "      <td>54569222</td>\n",
       "      <td>Access Denied when using Power Shell Remoting ...</td>\n",
       "      <td>&lt;p&gt;I want to remotely trigger some commands wi...</td>\n",
       "      <td>access denied using power shell remoting local...</td>\n",
       "    </tr>\n",
       "    <tr>\n",
       "      <th>1</th>\n",
       "      <td>2131029</td>\n",
       "      <td>Preprocess SHPAML in Django's template loader?</td>\n",
       "      <td>&lt;p&gt;Is there any way to make Django's template ...</td>\n",
       "      <td>preprocess shpaml django template loader</td>\n",
       "    </tr>\n",
       "    <tr>\n",
       "      <th>2</th>\n",
       "      <td>2131039</td>\n",
       "      <td>Writing eclipse templates</td>\n",
       "      <td>&lt;p&gt;I am writing django templates in Eclipse-&gt;p...</td>\n",
       "      <td>writing eclipse templates</td>\n",
       "    </tr>\n",
       "    <tr>\n",
       "      <th>3</th>\n",
       "      <td>2131045</td>\n",
       "      <td>Auto update and build with eclipse and SVN</td>\n",
       "      <td>&lt;p&gt;every morning when i come to work i update ...</td>\n",
       "      <td>auto update build eclipse svn</td>\n",
       "    </tr>\n",
       "    <tr>\n",
       "      <th>4</th>\n",
       "      <td>2131111</td>\n",
       "      <td>Use .NET in VB6 or classical ASP</td>\n",
       "      <td>&lt;p&gt;&lt;strong&gt;Duplicate of&lt;/strong&gt; &lt;a href=\"http...</td>\n",
       "      <td>use net vb6 classical asp</td>\n",
       "    </tr>\n",
       "  </tbody>\n",
       "</table>\n",
       "</div>"
      ],
      "text/plain": [
       "         Id                                              Title  \\\n",
       "0  54569222  Access Denied when using Power Shell Remoting ...   \n",
       "1   2131029     Preprocess SHPAML in Django's template loader?   \n",
       "2   2131039                          Writing eclipse templates   \n",
       "3   2131045         Auto update and build with eclipse and SVN   \n",
       "4   2131111                   Use .NET in VB6 or classical ASP   \n",
       "\n",
       "                                                Body  \\\n",
       "0  <p>I want to remotely trigger some commands wi...   \n",
       "1  <p>Is there any way to make Django's template ...   \n",
       "2  <p>I am writing django templates in Eclipse->p...   \n",
       "3  <p>every morning when i come to work i update ...   \n",
       "4  <p><strong>Duplicate of</strong> <a href=\"http...   \n",
       "\n",
       "                                       Title_process  \n",
       "0  access denied using power shell remoting local...  \n",
       "1           preprocess shpaml django template loader  \n",
       "2                          writing eclipse templates  \n",
       "3                      auto update build eclipse svn  \n",
       "4                          use net vb6 classical asp  "
      ]
     },
     "execution_count": 284,
     "metadata": {},
     "output_type": "execute_result"
    }
   ],
   "source": [
    "# Supprimer les mots non informatifs (stop words)\n",
    "corpus['Title_process'] = corpus['Title_process'].astype(str).apply(lambda x: remove_stop_short_words(x))\n",
    "corpus.head()"
   ]
  },
  {
   "cell_type": "code",
   "execution_count": 285,
   "id": "b76862eb",
   "metadata": {},
   "outputs": [
    {
     "data": {
      "text/html": [
       "<div>\n",
       "<style scoped>\n",
       "    .dataframe tbody tr th:only-of-type {\n",
       "        vertical-align: middle;\n",
       "    }\n",
       "\n",
       "    .dataframe tbody tr th {\n",
       "        vertical-align: top;\n",
       "    }\n",
       "\n",
       "    .dataframe thead th {\n",
       "        text-align: right;\n",
       "    }\n",
       "</style>\n",
       "<table border=\"1\" class=\"dataframe\">\n",
       "  <thead>\n",
       "    <tr style=\"text-align: right;\">\n",
       "      <th></th>\n",
       "      <th>Id</th>\n",
       "      <th>Title</th>\n",
       "      <th>Body</th>\n",
       "      <th>Title_process</th>\n",
       "    </tr>\n",
       "  </thead>\n",
       "  <tbody>\n",
       "    <tr>\n",
       "      <th>0</th>\n",
       "      <td>54569222</td>\n",
       "      <td>Access Denied when using Power Shell Remoting ...</td>\n",
       "      <td>&lt;p&gt;I want to remotely trigger some commands wi...</td>\n",
       "      <td>access denied using power shell remoting local...</td>\n",
       "    </tr>\n",
       "    <tr>\n",
       "      <th>1</th>\n",
       "      <td>2131029</td>\n",
       "      <td>Preprocess SHPAML in Django's template loader?</td>\n",
       "      <td>&lt;p&gt;Is there any way to make Django's template ...</td>\n",
       "      <td>preprocess shpaml django template loader</td>\n",
       "    </tr>\n",
       "    <tr>\n",
       "      <th>2</th>\n",
       "      <td>2131039</td>\n",
       "      <td>Writing eclipse templates</td>\n",
       "      <td>&lt;p&gt;I am writing django templates in Eclipse-&gt;p...</td>\n",
       "      <td>writing eclipse template</td>\n",
       "    </tr>\n",
       "    <tr>\n",
       "      <th>3</th>\n",
       "      <td>2131045</td>\n",
       "      <td>Auto update and build with eclipse and SVN</td>\n",
       "      <td>&lt;p&gt;every morning when i come to work i update ...</td>\n",
       "      <td>auto update build eclipse svn</td>\n",
       "    </tr>\n",
       "    <tr>\n",
       "      <th>4</th>\n",
       "      <td>2131111</td>\n",
       "      <td>Use .NET in VB6 or classical ASP</td>\n",
       "      <td>&lt;p&gt;&lt;strong&gt;Duplicate of&lt;/strong&gt; &lt;a href=\"http...</td>\n",
       "      <td>use net vb6 classical asp</td>\n",
       "    </tr>\n",
       "  </tbody>\n",
       "</table>\n",
       "</div>"
      ],
      "text/plain": [
       "         Id                                              Title  \\\n",
       "0  54569222  Access Denied when using Power Shell Remoting ...   \n",
       "1   2131029     Preprocess SHPAML in Django's template loader?   \n",
       "2   2131039                          Writing eclipse templates   \n",
       "3   2131045         Auto update and build with eclipse and SVN   \n",
       "4   2131111                   Use .NET in VB6 or classical ASP   \n",
       "\n",
       "                                                Body  \\\n",
       "0  <p>I want to remotely trigger some commands wi...   \n",
       "1  <p>Is there any way to make Django's template ...   \n",
       "2  <p>I am writing django templates in Eclipse->p...   \n",
       "3  <p>every morning when i come to work i update ...   \n",
       "4  <p><strong>Duplicate of</strong> <a href=\"http...   \n",
       "\n",
       "                                       Title_process  \n",
       "0  access denied using power shell remoting local...  \n",
       "1           preprocess shpaml django template loader  \n",
       "2                           writing eclipse template  \n",
       "3                      auto update build eclipse svn  \n",
       "4                          use net vb6 classical asp  "
      ]
     },
     "execution_count": 285,
     "metadata": {},
     "output_type": "execute_result"
    }
   ],
   "source": [
    "# Lemmatisation\n",
    "# We use the WordNet lemmatizer from NLTK. A lemmatizer is preferred over a stemmer \n",
    "# in this case because it produces more readable words.\n",
    "corpus['Title_process'] = corpus['Title_process'].astype(str).apply(lambda x: lemmatize_text(x))\n",
    "corpus.head()"
   ]
  },
  {
   "cell_type": "code",
   "execution_count": 286,
   "id": "4000e87b",
   "metadata": {},
   "outputs": [],
   "source": [
    "# Filter out words that occur less than 10 documents, or more than 80% of the documents.\n",
    "\n",
    "corpus['Title_process'] = corpus['Title_process'].apply(word_tokenize)\n",
    "dictionary = Dictionary(corpus['Title_process'])\n",
    "dictionary.filter_extremes(no_below=20, no_above=0.5)"
   ]
  },
  {
   "cell_type": "code",
   "execution_count": 287,
   "id": "1c8f2ed1",
   "metadata": {},
   "outputs": [
    {
     "data": {
      "text/html": [
       "<div>\n",
       "<style scoped>\n",
       "    .dataframe tbody tr th:only-of-type {\n",
       "        vertical-align: middle;\n",
       "    }\n",
       "\n",
       "    .dataframe tbody tr th {\n",
       "        vertical-align: top;\n",
       "    }\n",
       "\n",
       "    .dataframe thead th {\n",
       "        text-align: right;\n",
       "    }\n",
       "</style>\n",
       "<table border=\"1\" class=\"dataframe\">\n",
       "  <thead>\n",
       "    <tr style=\"text-align: right;\">\n",
       "      <th></th>\n",
       "      <th>Id</th>\n",
       "      <th>Title</th>\n",
       "      <th>Body</th>\n",
       "      <th>Title_process</th>\n",
       "    </tr>\n",
       "  </thead>\n",
       "  <tbody>\n",
       "    <tr>\n",
       "      <th>0</th>\n",
       "      <td>54569222</td>\n",
       "      <td>Access Denied when using Power Shell Remoting ...</td>\n",
       "      <td>&lt;p&gt;I want to remotely trigger some commands wi...</td>\n",
       "      <td>[access, denied, using, power, shell, remoting...</td>\n",
       "    </tr>\n",
       "    <tr>\n",
       "      <th>1</th>\n",
       "      <td>2131029</td>\n",
       "      <td>Preprocess SHPAML in Django's template loader?</td>\n",
       "      <td>&lt;p&gt;Is there any way to make Django's template ...</td>\n",
       "      <td>[preprocess, shpaml, django, template, loader]</td>\n",
       "    </tr>\n",
       "    <tr>\n",
       "      <th>2</th>\n",
       "      <td>2131039</td>\n",
       "      <td>Writing eclipse templates</td>\n",
       "      <td>&lt;p&gt;I am writing django templates in Eclipse-&gt;p...</td>\n",
       "      <td>[writing, eclipse, template]</td>\n",
       "    </tr>\n",
       "    <tr>\n",
       "      <th>3</th>\n",
       "      <td>2131045</td>\n",
       "      <td>Auto update and build with eclipse and SVN</td>\n",
       "      <td>&lt;p&gt;every morning when i come to work i update ...</td>\n",
       "      <td>[auto, update, build, eclipse, svn]</td>\n",
       "    </tr>\n",
       "    <tr>\n",
       "      <th>4</th>\n",
       "      <td>2131111</td>\n",
       "      <td>Use .NET in VB6 or classical ASP</td>\n",
       "      <td>&lt;p&gt;&lt;strong&gt;Duplicate of&lt;/strong&gt; &lt;a href=\"http...</td>\n",
       "      <td>[use, net, vb6, classical, asp]</td>\n",
       "    </tr>\n",
       "  </tbody>\n",
       "</table>\n",
       "</div>"
      ],
      "text/plain": [
       "         Id                                              Title  \\\n",
       "0  54569222  Access Denied when using Power Shell Remoting ...   \n",
       "1   2131029     Preprocess SHPAML in Django's template loader?   \n",
       "2   2131039                          Writing eclipse templates   \n",
       "3   2131045         Auto update and build with eclipse and SVN   \n",
       "4   2131111                   Use .NET in VB6 or classical ASP   \n",
       "\n",
       "                                                Body  \\\n",
       "0  <p>I want to remotely trigger some commands wi...   \n",
       "1  <p>Is there any way to make Django's template ...   \n",
       "2  <p>I am writing django templates in Eclipse->p...   \n",
       "3  <p>every morning when i come to work i update ...   \n",
       "4  <p><strong>Duplicate of</strong> <a href=\"http...   \n",
       "\n",
       "                                       Title_process  \n",
       "0  [access, denied, using, power, shell, remoting...  \n",
       "1     [preprocess, shpaml, django, template, loader]  \n",
       "2                       [writing, eclipse, template]  \n",
       "3                [auto, update, build, eclipse, svn]  \n",
       "4                    [use, net, vb6, classical, asp]  "
      ]
     },
     "execution_count": 287,
     "metadata": {},
     "output_type": "execute_result"
    }
   ],
   "source": [
    "corpus.head()"
   ]
  },
  {
   "cell_type": "code",
   "execution_count": null,
   "id": "27fa5a33",
   "metadata": {},
   "outputs": [],
   "source": [
    "# Mise à jour de traitement de title avec le résultat de filtrage\n",
    "def filter_tokens(tokens):\n",
    "    return [token for token in tokens if token in dictionary.token2id]\n",
    "\n",
    "corpus['Title_tokens'] = corpus['Title_process'].apply(filter_tokens)"
   ]
  },
  {
   "cell_type": "code",
   "execution_count": 288,
   "id": "0625083d",
   "metadata": {},
   "outputs": [],
   "source": [
    "corpus[['Title', 'Title_process','Title_tokens' ]].to_csv('title1.csv', index=False)"
   ]
  },
  {
   "cell_type": "code",
   "execution_count": 290,
   "id": "f4a9ef9d",
   "metadata": {},
   "outputs": [],
   "source": []
  },
  {
   "cell_type": "markdown",
   "id": "c522b312",
   "metadata": {},
   "source": [
    "## 1.3 traitement de body"
   ]
  },
  {
   "cell_type": "code",
   "execution_count": 293,
   "id": "ef03c7b0",
   "metadata": {},
   "outputs": [],
   "source": [
    "# Normalisation de la casse (mise en minuscules)\n",
    "corpus['Body_process'] = corpus['Body'].str.lower()"
   ]
  },
  {
   "cell_type": "code",
   "execution_count": 294,
   "id": "3fb32e5f",
   "metadata": {},
   "outputs": [],
   "source": [
    "# Enleve les tags html et les codes\n",
    "corpus['Body_process'] = corpus['Body_process'].astype(str).apply(remove_html_tags_code)"
   ]
  },
  {
   "cell_type": "code",
   "execution_count": 296,
   "id": "8ec913f9",
   "metadata": {},
   "outputs": [],
   "source": [
    "# Tokenization (découpage en mots)\n",
    "corpus['Body_process'] = corpus['Body_process'].astype(str).apply(nltk.word_tokenize)"
   ]
  },
  {
   "cell_type": "code",
   "execution_count": 297,
   "id": "3e44d936",
   "metadata": {},
   "outputs": [],
   "source": [
    "# Supprimer les caractères spéciaux  \n",
    "# les caractères qui ne sont pas des lettres de l'alphabet (majuscules ou minuscules) ni des chiffres sauf '-'\n",
    "corpus['Body_process'] = corpus['Body_process'].apply(lambda x: re.sub('[^a-zA-Z0-9_]', ' ', str(x)))"
   ]
  },
  {
   "cell_type": "code",
   "execution_count": 298,
   "id": "6a5ee628",
   "metadata": {},
   "outputs": [],
   "source": [
    "# Supprimer les mots non informatifs (stop words)\n",
    "corpus['Body_process'] = corpus['Body_process'].astype(str).apply(lambda x: remove_stop_short_words(x))"
   ]
  },
  {
   "cell_type": "code",
   "execution_count": 299,
   "id": "d9373259",
   "metadata": {},
   "outputs": [],
   "source": [
    "# Lemmatisation\n",
    "corpus['Body_process'] = corpus['Body_process'].astype(str).apply(lambda x: lemmatize_text(x))"
   ]
  },
  {
   "cell_type": "code",
   "execution_count": 300,
   "id": "d5379b12",
   "metadata": {},
   "outputs": [
    {
     "data": {
      "text/plain": [
       "0    want remotely trigger command power shell wind...\n",
       "1    way make django template loader run template l...\n",
       "2    writing django template eclipse prefrences tem...\n",
       "3    every morning come work update source svn buil...\n",
       "4    duplicate calling net method vb6 via com visib...\n",
       "Name: Body_process, dtype: object"
      ]
     },
     "execution_count": 300,
     "metadata": {},
     "output_type": "execute_result"
    }
   ],
   "source": [
    "corpus['Body_process'].head()"
   ]
  },
  {
   "cell_type": "code",
   "execution_count": 302,
   "id": "e48cbc38",
   "metadata": {},
   "outputs": [],
   "source": [
    "corpus[['Title', 'Title_tokens', 'Body', 'Body_process']].to_csv('title_body1.csv', index=False)"
   ]
  },
  {
   "cell_type": "markdown",
   "id": "61d9703a",
   "metadata": {},
   "source": [
    "# 2 Extraction des features "
   ]
  },
  {
   "cell_type": "markdown",
   "id": "60802aa9",
   "metadata": {},
   "source": [
    "## 2.1  Bag of word"
   ]
  },
  {
   "cell_type": "code",
   "execution_count": 151,
   "id": "79c2ab4b",
   "metadata": {},
   "outputs": [
    {
     "name": "stdout",
     "output_type": "stream",
     "text": [
      "[[0 0 0 ... 0 0 0]]\n"
     ]
    }
   ],
   "source": [
    "from sklearn.feature_extraction.text import CountVectorizer\n",
    "\n",
    "# corpus de title\n",
    "corpus_title = corpus['Title_token']\n",
    "\n",
    "# Create instance de CountVectorizer\n",
    "vectorizer = CountVectorizer()\n",
    "\n",
    "# Fit vectorizer avec corpus_title\n",
    "vectorizer.fit(corpus_title)\n",
    "\n",
    "# transform documents (title) de corpus_title en vecteurs\n",
    "X = vectorizer.transform(corpus_title)\n",
    "\n",
    "first_document_vector = X[0].toarray()\n",
    "\n",
    "print(first_document_vector)"
   ]
  },
  {
   "cell_type": "code",
   "execution_count": null,
   "id": "5aab0d51",
   "metadata": {},
   "outputs": [],
   "source": []
  },
  {
   "cell_type": "code",
   "execution_count": null,
   "id": "d6270395",
   "metadata": {},
   "outputs": [],
   "source": []
  },
  {
   "cell_type": "code",
   "execution_count": null,
   "id": "0fe944be",
   "metadata": {},
   "outputs": [],
   "source": []
  },
  {
   "cell_type": "markdown",
   "id": "c5b4c618",
   "metadata": {},
   "source": [
    "## 2.2 Word Embedding"
   ]
  },
  {
   "cell_type": "code",
   "execution_count": null,
   "id": "6a1e8e7b",
   "metadata": {},
   "outputs": [],
   "source": []
  },
  {
   "cell_type": "code",
   "execution_count": 154,
   "id": "d1d93b81",
   "metadata": {},
   "outputs": [
    {
     "name": "stdout",
     "output_type": "stream",
     "text": [
      "[-8.2428139e-03  9.2992587e-03 -1.9804893e-04 -1.9670932e-03\n",
      "  4.6037803e-03 -4.0953029e-03  2.7429049e-03  6.9401739e-03\n",
      "  6.0651284e-03 -7.5107305e-03  9.3822703e-03  4.6716495e-03\n",
      "  3.9663245e-03 -6.2434538e-03  8.4600979e-03 -2.1501011e-03\n",
      "  8.8254288e-03 -5.3620036e-03 -8.1294794e-03  6.8242415e-03\n",
      "  1.6710253e-03 -2.1985222e-03  9.5133632e-03  9.4935708e-03\n",
      " -9.7736213e-03  2.5049869e-03  6.1567132e-03  3.8728428e-03\n",
      "  2.0225546e-03  4.3048026e-04  6.7400362e-04 -3.8207199e-03\n",
      " -7.1403324e-03 -2.0886923e-03  3.9234436e-03  8.8187810e-03\n",
      "  9.2591941e-03 -5.9757386e-03 -9.4025871e-03  9.7644711e-03\n",
      "  3.4297551e-03  5.1663239e-03  6.2822350e-03 -2.8042037e-03\n",
      "  7.3227971e-03  2.8304595e-03  2.8709546e-03 -2.3802817e-03\n",
      " -3.1282553e-03 -2.3699638e-03  4.2765420e-03  7.6203403e-05\n",
      " -9.5845042e-03 -9.6655367e-03 -6.1483392e-03 -1.2894146e-04\n",
      "  1.9972622e-03  9.4317868e-03  5.5843079e-03 -4.2908196e-03\n",
      "  2.7835433e-04  4.9644676e-03  7.6987804e-03 -1.1442254e-03\n",
      "  4.3230909e-03 -5.8142547e-03 -8.0411654e-04  8.0999406e-03\n",
      " -2.3602108e-03 -9.6634123e-03  5.7794331e-03 -3.9295349e-03\n",
      " -1.2228678e-03  9.9803125e-03 -2.2563937e-03 -4.7570220e-03\n",
      " -5.3290655e-03  6.9808895e-03 -5.7087606e-03  2.1136790e-03\n",
      " -5.2555338e-03  6.1204149e-03  4.3570427e-03  2.6065512e-03\n",
      " -1.4910138e-03 -2.7463729e-03  8.9926021e-03  5.2156108e-03\n",
      " -2.1621275e-03 -9.4701592e-03 -7.4264104e-03 -1.0633626e-03\n",
      " -7.9459540e-04 -2.5628195e-03  9.6831908e-03 -4.5857276e-04\n",
      "  5.8736769e-03 -7.4474192e-03 -2.5056067e-03 -5.5499584e-03]\n"
     ]
    }
   ],
   "source": [
    "from gensim.models import Word2Vec\n",
    "\n",
    "# Exemple de corpus de phrases\n",
    "corpus = [\n",
    "    \"Le chat est mignon\",\n",
    "    \"Le chien est fidèle\",\n",
    "    \"Le chat et le chien sont amis\",\n",
    "    \"Le lion est puissant\",\n",
    "    \"Le tigre est sauvage\"\n",
    "]\n",
    "\n",
    "# Prétraitement des phrases en une liste de listes de mots\n",
    "sentences = [sentence.split() for sentence in corpus]\n",
    "\n",
    "# Entraînement du modèle Word2Vec\n",
    "model = Word2Vec(sentences, min_count=1)\n",
    "\n",
    "# Obtention du plongement du mot \"chat\"\n",
    "embedding = model.wv['chat']\n",
    "print(embedding)"
   ]
  },
  {
   "cell_type": "markdown",
   "id": "fe2b3d9f",
   "metadata": {},
   "source": [
    "## 2.3 TF-IDF"
   ]
  },
  {
   "cell_type": "code",
   "execution_count": 152,
   "id": "f1d07270",
   "metadata": {},
   "outputs": [
    {
     "name": "stdout",
     "output_type": "stream",
     "text": [
      "  (0, 209)\t0.3645275929721957\n",
      "  (0, 4335)\t0.2538980331530107\n",
      "  (0, 18163)\t0.19744323970388894\n",
      "  (0, 537)\t0.3257924494349014\n",
      "  (0, 11455)\t0.27084775370958164\n",
      "  (0, 16871)\t0.42406655773225366\n",
      "  (0, 18410)\t0.297932094004714\n",
      "  (0, 15303)\t0.369394865602048\n",
      "  (0, 21866)\t0.14826889698401818\n",
      "  (0, 5253)\t0.3216424925957781\n",
      "  (0, 514)\t0.23170295726574017\n"
     ]
    }
   ],
   "source": [
    "from sklearn.feature_extraction.text import TfidfVectorizer\n",
    "\n",
    "# Corpus of titles\n",
    "corpus_title = corpus['Title_process']\n",
    "\n",
    "# Create an instance of TfidfVectorizer\n",
    "vectorizer = TfidfVectorizer()\n",
    "\n",
    "# Fit vectorizer to the corpus_title\n",
    "X = vectorizer.fit_transform(corpus_title)\n",
    "\n",
    "# Get the TF-IDF features of the first document\n",
    "first_document_features = X[0]\n",
    "\n",
    "print(first_document_features)"
   ]
  },
  {
   "cell_type": "code",
   "execution_count": null,
   "id": "0c7c6884",
   "metadata": {},
   "outputs": [],
   "source": []
  }
 ],
 "metadata": {
  "kernelspec": {
   "display_name": "Python 3 (ipykernel)",
   "language": "python",
   "name": "python3"
  },
  "language_info": {
   "codemirror_mode": {
    "name": "ipython",
    "version": 3
   },
   "file_extension": ".py",
   "mimetype": "text/x-python",
   "name": "python",
   "nbconvert_exporter": "python",
   "pygments_lexer": "ipython3",
   "version": "3.9.13"
  }
 },
 "nbformat": 4,
 "nbformat_minor": 5
}
